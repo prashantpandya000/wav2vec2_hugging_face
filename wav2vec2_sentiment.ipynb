{
 "cells": [
  {
   "cell_type": "code",
   "execution_count": 1,
   "source": [
    "import librosa\r\n",
    "import matplotlib as mpl\r\n",
    "import pandas as pd\r\n",
    "import plotly\r\n",
    "import plotly_express as px\r\n",
    "import plotly.graph_objects as go\r\n",
    "import numpy as np\r\n",
    "import re\r\n",
    "import torch"
   ],
   "outputs": [],
   "metadata": {}
  },
  {
   "cell_type": "code",
   "execution_count": 2,
   "source": [
    "#importing wav2vec2 from huggingface library transformer\r\n",
    "from nltk.tokenize import sent_tokenize\r\n",
    "from transformers import (\r\n",
    "    Wav2Vec2ForCTC,\r\n",
    "    Wav2Vec2Tokenizer,\r\n",
    "    MarianMTModel,\r\n",
    "    MarianTokenizer,\r\n",
    "    pipeline,\r\n",
    ")"
   ],
   "outputs": [],
   "metadata": {}
  },
  {
   "cell_type": "code",
   "execution_count": 3,
   "source": [
    "def asr_transcript(tokenizer, model, audio_file, clip_length):\r\n",
    "    transcript = \"\"\r\n",
    "\r\n",
    "    stream = librosa.stream(\r\n",
    "        audio_file, block_length=clip_length, frame_length=16000, hop_length=16000\r\n",
    "    )\r\n",
    "\r\n",
    "    for speech in stream:\r\n",
    "        if len(speech.shape) > 1:\r\n",
    "            speech = speech[:, 0] + speech[:, 1]\r\n",
    "\r\n",
    "        input_values = tokenizer(speech, return_tensors=\"pt\").input_values\r\n",
    "        logits = model(input_values).logits\r\n",
    "\r\n",
    "        predicted_ids = torch.argmax(logits, dim=-1)\r\n",
    "        transcription = tokenizer.decode(predicted_ids[0])\r\n",
    "        transcript += transcription.lower() + \". \" # this places an artifical full-stop at the end of each clip\r\n",
    "        \r\n",
    "    return transcript"
   ],
   "outputs": [],
   "metadata": {}
  },
  {
   "cell_type": "code",
   "execution_count": 19,
   "source": [
    "tokenizer_transcribe = Wav2Vec2Tokenizer.from_pretrained(\"facebook/wav2vec2-large-960h-lv60-self\")\r\n",
    "\r\n",
    "model_transcribe = Wav2Vec2ForCTC.from_pretrained(\"facebook/wav2vec2-large-960h-lv60-self\")\r\n",
    "\r\n",
    "audio_file = \"small.wav\"\r\n",
    "\r\n",
    "clip_length = 1"
   ],
   "outputs": [],
   "metadata": {}
  },
  {
   "cell_type": "code",
   "execution_count": null,
   "source": [
    "transcript = asr_transcript(tokenizer_transcribe, model_transcribe, audio_file, clip_length)"
   ],
   "outputs": [],
   "metadata": {}
  },
  {
   "cell_type": "code",
   "execution_count": null,
   "source": [
    "print(transcript)"
   ],
   "outputs": [
    {
     "output_type": "stream",
     "name": "stdout",
     "text": [
      ". tas. . . mebernot. . . \n"
     ]
    }
   ],
   "metadata": {}
  },
  {
   "cell_type": "code",
   "execution_count": null,
   "source": [],
   "outputs": [],
   "metadata": {}
  }
 ],
 "metadata": {
  "orig_nbformat": 4,
  "language_info": {
   "name": "python",
   "version": "3.8.3",
   "mimetype": "text/x-python",
   "codemirror_mode": {
    "name": "ipython",
    "version": 3
   },
   "pygments_lexer": "ipython3",
   "nbconvert_exporter": "python",
   "file_extension": ".py"
  },
  "kernelspec": {
   "name": "python3",
   "display_name": "Python 3.8.3 64-bit ('base': conda)"
  },
  "interpreter": {
   "hash": "cbcdce6a926c612543ae8aba0643a88349cf2a8bb8d86298bcef1d1eb04f3dcc"
  }
 },
 "nbformat": 4,
 "nbformat_minor": 2
}