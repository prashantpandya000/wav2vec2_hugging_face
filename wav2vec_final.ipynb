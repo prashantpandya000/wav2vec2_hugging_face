{
 "cells": [
  {
   "cell_type": "code",
   "execution_count": 7,
   "source": [
    "# all the necessary library to import \r\n",
    "\r\n",
    "import librosa\r\n",
    "import matplotlib as mpl\r\n",
    "import pandas as pd\r\n",
    "import plotly\r\n",
    "import plotly_express as px\r\n",
    "import plotly.graph_objects as go\r\n",
    "import numpy as np\r\n",
    "import re\r\n",
    "import torch"
   ],
   "outputs": [],
   "metadata": {}
  },
  {
   "cell_type": "code",
   "execution_count": 8,
   "source": [
    "#importing wav2vec2 from huggingface library transformer\r\n",
    "from nltk.tokenize import sent_tokenize\r\n",
    "from transformers import (\r\n",
    "    Wav2Vec2ForCTC,\r\n",
    "    Wav2Vec2Tokenizer,\r\n",
    "    MarianMTModel,\r\n",
    "    MarianTokenizer,\r\n",
    "    pipeline,\r\n",
    ")"
   ],
   "outputs": [],
   "metadata": {}
  },
  {
   "cell_type": "code",
   "execution_count": 15,
   "source": [
    "# creating function which takes 4 paramerter 1. tokenizer , 2. model we are using, 3. giving audio file as input \r\n",
    "# 4. clip_length- as system will start crashing if we use 15 audio as input  \r\n",
    "\r\n",
    "def asr_transcript(tokenizer, model, audio_file, clip_length):\r\n",
    "    transcript = \"\"\r\n",
    "\r\n",
    "    stream = librosa.stream(\r\n",
    "        audio_file, block_length=clip_length, frame_length=16000, hop_length=16000\r\n",
    "    )\r\n",
    "\r\n",
    "    for speech in stream:\r\n",
    "        if len(speech.shape) > 1:\r\n",
    "            speech = speech[:, 0] + speech[:, 1]\r\n",
    "\r\n",
    "        input_values = tokenizer(speech, return_tensors=\"pt\").input_values\r\n",
    "        logits = model(input_values).logits\r\n",
    "\r\n",
    "        predicted_ids = torch.argmax(logits, dim=-1)\r\n",
    "        transcription = tokenizer.decode(predicted_ids[0])\r\n",
    "        transcript += transcription.lower() + \". \" # this places an artifical full-stop at the end of each clip\r\n",
    "        \r\n",
    "    return transcript"
   ],
   "outputs": [],
   "metadata": {}
  },
  {
   "cell_type": "code",
   "execution_count": 16,
   "source": [
    "#load the tokenizer- we can use different model from huggingface here or use our own trained model\r\n",
    "tokenizer_transcribe = Wav2Vec2Tokenizer.from_pretrained(\"facebook/wav2vec2-base-960h\")\r\n",
    "\r\n",
    "model_transcribe = Wav2Vec2ForCTC.from_pretrained(\"facebook/wav2vec2-base-960h\")\r\n",
    "\r\n",
    "audio_file = \"record.wav\"\r\n",
    "\r\n",
    "clip_length = 25"
   ],
   "outputs": [
    {
     "output_type": "stream",
     "name": "stderr",
     "text": [
      "The tokenizer class you load from this checkpoint is not the same type as the class this function is called from. It may result in unexpected tokenization. \n",
      "The tokenizer class you load from this checkpoint is 'Wav2Vec2CTCTokenizer'. \n",
      "The class this function is called from is 'Wav2Vec2Tokenizer'.\n",
      "Some weights of Wav2Vec2ForCTC were not initialized from the model checkpoint at facebook/wav2vec2-base-960h and are newly initialized: ['wav2vec2.masked_spec_embed']\n",
      "You should probably TRAIN this model on a down-stream task to be able to use it for predictions and inference.\n"
     ]
    }
   ],
   "metadata": {}
  },
  {
   "cell_type": "code",
   "execution_count": 22,
   "source": [
    "#calling the asr function and storing it under prashant name \r\n",
    "prashant = asr_transcript(tokenizer_transcribe, model_transcribe, audio_file, clip_length)"
   ],
   "outputs": [],
   "metadata": {}
  },
  {
   "cell_type": "code",
   "execution_count": 23,
   "source": [
    "#printing speech to text generated output \r\n",
    "print(prashant)"
   ],
   "outputs": [
    {
     "output_type": "stream",
     "name": "stdout",
     "text": [
      "p rule   sh wa h rotim no. ao sho whe ishorosssomowoshshau shhbut. a wa anyonu ah oce ot cu wu ugh ru the ppru. rosh ash a po aot a sha  wh a  mosh  to w awo. shhoish  a co for aca ou an a owa ar aru  ashirtosh  acash. o hau ashushtoshoshfor aon wu u r n a c oc u o wa s a oog. rualoam sho en esh cut fosresh and thebash ampaar ash ish h. hash apo who  a ash frompepo a ruusha tha ash chash an buuas tar or co waar lo or a. aa o  ripo o ho aarsheshsh te u ush lacoserule a ho o you ash mu. ora agreo o a a r aarashweos puash om aaa mo aash ur o. a godui trotea a asha aulokothe hur soaten oopa ushashashstre. mash a bru ao u a a a ash aa a uch e a you oalo. wa hushmsh   in mush on cat   i show onon all in commush a sha for. to rashel ru ru onybou a a ash om ashshsh to urashasha tosh. i ba tha ru ag ru hum u ora t puge ru ot tra u as wa aa u sha. ru teshhtoeap ru rushasham  swemasaaboa tamag ta tange na trad long walsh mor. o sho shuld not so yo havs you a wo o a con a o an trhaos a coo yo osha yo do a. shupfrom happy you the tashtantom astra te bosh mo bu bou a u bbr a a you m a ponta a o. a and sil a ruresu on poshu lon lo ora ashba pa a a or oshfor poor  on. br sheshe i a shu lo opoto opo mo o aa hol t  bru a how asho hwa sho. awl tu wosha sha a bamo wat b the ro a haomac co woh hepa a w. a osh o to por a to mashho wpa chajo on o wo pashymo paa o wush pa pao to maha. a vosca os bru mor  brue bruin moeg a toraa trew o so br austo us. ba a pru  rusco a rrr a r a a asto an a coishin you a car a. oh o u s pfou o buran you c o foshu choshuachan contonton. u peuple shlova warpefoa shu pashe toa twor ponfor mofor petru bu chash co paa cruash a tru pfo and matra. shall an sla a rm  o rom reco fo ama wa o mo aa mo i shall a a a ba a shar no aa a wa ta a a. o but fe mru ol u astromupoa ashshapage a apah ahhaasha ash ta. mushguyu gru on ishsha a p ash ashascit ash a pa ma masho pao po. a a a you m tebuge i a mu ush a chsh cru but acha ruc a mo shash a o. wagh ch ca a ma two your claashirchushacao r t o nucus a hunch. a at ca huchurchaa ar carshop and thoug moa a haenthe ca hols were all osha o wo. apash aaahanga a b bacaa u rusthuge tus te t a hus wa. o shro asha ashka who haa at nohopmat dan tebo orpopopasa awa youl hat y. a a wa ama ru  ash a ma  you ar cha  ru dashsham. aa uorwhat r ra y ou asha ashashshtro a baa ash oscharpashash aham o on. u pa wat show pa a ush aapaaoauoch fo b luo osha. sho you oe omossha sha col through nohaashoat wa mot on theoch. ocha pol cha h gearl o ho yua potpo booghe cacacha modal ca ama or oo. shot a bue how e woar a sha o oyou ar apopa o ue u all ow to te rule ony rule. al mash sha caghha all ow a aaashao ruaopo aaoshash rot. fa bruw unclaashashan aauro al gra osheshtru a paaash ouashrapauchtoma. uo stoa ja a ru baba bapa bahaacur o shrew chuma a u qua teemable wotch ama. amoruch tamuch a mohoo ochrotronga  aruro o oua ontantach maa r aa. oo t ashaa wa buge ar ootoish ooo foo ioo aaugh. a fo l u oash a chrusha ash bi yor oofo ola  tat or lo yor ra rash. rui while you a on o eschchpocha sho wat a nesh ooo o a po ruw. a oal an son ma pu o m po te schua charpan chaaofaa shell o wha prol a shi ta p a. r an grushk o auar oscha a o alot aama. sh owash oa what should  or era oo ah ro sha mash ash gov. o o happy e sha pa ara you sr well a a u. a ug u a achoch. sshee wo maa e  o a c terur a chols lan. otru sh the peton youa a aa a a carls te foish a aa you o e aone. o a   mo bush o mosh a aaacha acha the bru cugh bura. a puta a achaa a masha a shartwo te o na avo aru pa poaru ach. ah ar po o us ah pufur poas  a u no u uush  u na a. ra ma ochan cho o boch concha arch stra a ba  bu o horror mo  bru a achochfa boochur achacham b. sho you hon a ou a shu bu goul  y to ua cho rush an bont ogh while. youont tabo brish re bruel os to bru aaba a e a a you ere a without pores o o  the. e o the who huge ae a ma po  t ra ata hale bash o a ha ebot o ush. shaaa on what at toce youar sharto t bashon swiosha h eao. buch u o for the e al oo throu you a cfoshash a popush. a ah a aha aha a wshal aha shall and good ot a bo. ash a a tooch a sh washaa ashsha a o a shhasha i an ya aa oa a a w e. pouge osh ap apur oas a sha up a bo sha of tiparush cam whoa aapoge yo r ah aapapea. he ah a aschha ush or uma a boish oaabrougt portron aa o bato aba a o to. o ashapi i shall a hi boraava onshatho ta osh a i tbut i i sha. gri sal a purige a rui sll a bue pig whureg ow unp wu ma gge  tro o ac a pater ah. i i efor your ajerahha brusha ao your quersh   a caha iaru. a ah ba sh aa tugh ho waarsh  oa pasha o  ramash. lush a to p to lomash lash mu awush. a com a ha ama can oa yosha yo  a a o osee oa isha aash u. ash apt yoa boo b a atmahsha a aapa sho masha ronbl toosha. ush ush cu a  a a moac twa a  ra o mo. or bupa aa sr  sur ama a  ha a shu a. who ar hasha our chan satos he wol a o wor i wosha ashah o for o ouma jeble wa a. a ie iabaahe ruf u u a a pashaue or bu ruhava a pa brun a. bum foosh a a a ba o ha um  b co o ru a what  mor mot ra  tasha. rach u wa a iniculasa ha to cahama all wa o he mas ma a  inderaa aanwa a o. bua broow luahhatrashmamausha asha wa herch bru a uaha hum a an. a aawach cuage and abash ra o papisu chaa waalana yu ak lemapotat upon uren poeranteawar. pu poa po ofo ashall a chage or urge o po forshall a tu  to te burna a a work. amuchocha ma a ha a o to ma oscha acuh the oscha. ge hom for i sharprge oor orge aferge aoto o peopl  o ba a don o tege ha ah a. you aloyou ma'am oada you are tmo otach ta o to o ahush machatan afa. anschush aca brashala b apag  boap you macaca  yamb apa. yo a ra acauge not onchabe iyo yo juge oh huge u a o ma ormo r harbirobaw. a ro mupechchanpuda aucha puuchbash u while la ofufucha ochc. ush wh a mumh ca aat a shar for help a bo rul for hel foma crush ru inabash sa. yo ma trat e maa ml onaa mawat butan us ant a wusatut o o. wea atu  that oaa atruprachra wa tracuaproch wuturue ama un. isha rale a keepaaa itata ish pa ha a pul po o  a o. ratch waa wa ah a the moch who  he  a amo o a moch  o. yo ash teuah a a ausho  sh moraash ra r. agpe ha a ma chush o iwa u a absh ua u ush abush  a ba you ar ash pu ansra. a u br shell e sh a aa boa buu osh  a  a wha ha. raa oncha ashata wha hu a aalone a the cush brucha ururu asha pugh a but ora. fa ham rue a bo a we o hachoe o m sur on ho to not maruchaprash no aaci pogh. aw what hat m a uen ta  wo  oyo o  omaso ca u. r aa aschcaca  ah w a ash o a. wo min bsh sh a spr  spirl up the thee shir is he on'ts l. sh h o sh you a  er han e  e. ch work ach ug ch cr a u you her o ta a or a lon. a o oh waaa aw a a canra ho shcan cru to. ashipa oo aa a asshmashhaa a usha sha a a bom. ep  o wa yoma wa ta sur n l cuge wa o wa ca wo yu. a ush hou oo ha yo och sha a aru ontraa your oa. all aut yo e ca a ouble you aa sra or ou ca a sha wa o sa osuch wut a. a o but wos were  coawat wta e scha o yo hra wefoeo ode ro. a era o atya trosh a aaa to na how calo t a. ash ayo o sh ca a ti ha ana o a a a ama to bo a aa a all. o oo r i  ssh e a ar o wgh o o w wa push wo o. a grueeshcana ha you hao wa ash cap in a a wa a a a shu o. a e ac e  shall  for och ona o  wo   sh o oc o ea oo. wher sh ush a aa asha o a yo. the ar surma a o a a a war o a wa tra shuld mushtuma a a a sha or shu scha. oni sa. \n"
     ]
    }
   ],
   "metadata": {}
  },
  {
   "cell_type": "code",
   "execution_count": null,
   "source": [],
   "outputs": [],
   "metadata": {}
  }
 ],
 "metadata": {
  "orig_nbformat": 4,
  "language_info": {
   "name": "python",
   "version": "3.8.3",
   "mimetype": "text/x-python",
   "codemirror_mode": {
    "name": "ipython",
    "version": 3
   },
   "pygments_lexer": "ipython3",
   "nbconvert_exporter": "python",
   "file_extension": ".py"
  },
  "kernelspec": {
   "name": "python3",
   "display_name": "Python 3.8.3 64-bit ('base': conda)"
  },
  "interpreter": {
   "hash": "cbcdce6a926c612543ae8aba0643a88349cf2a8bb8d86298bcef1d1eb04f3dcc"
  }
 },
 "nbformat": 4,
 "nbformat_minor": 2
}